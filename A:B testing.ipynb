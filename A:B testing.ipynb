{
 "cells": [
  {
   "cell_type": "code",
   "execution_count": null,
   "id": "c6c67d23-c49c-47c8-856d-4cb6c922a353",
   "metadata": {
    "tags": []
   },
   "outputs": [],
   "source": [
    "import pandas as pd\n",
    "import numpy as np"
   ]
  },
  {
   "cell_type": "markdown",
   "id": "fd990140-11d4-441d-bbc7-494514b7463a",
   "metadata": {},
   "source": [
    "### 1 - Importez les 3 fichiers csv"
   ]
  },
  {
   "cell_type": "markdown",
   "id": "7966cfa6",
   "metadata": {},
   "source": [
    "This code snippet is reading data from three CSV files into three separate Pandas DataFrames. \n",
    "- `olist_payments` DataFrame is being created by reading data from the 'olist_order_payments.csv' file.\n",
    "- `olist_orders` DataFrame is being created by reading data from the 'olist_orders.csv' file.\n",
    "- `olist_customers` DataFrame is being created by reading data from the 'olist_customers_ab_test.csv' file."
   ]
  },
  {
   "cell_type": "code",
   "execution_count": null,
   "id": "07eea2cd",
   "metadata": {},
   "outputs": [],
   "source": [
    "\n",
    "olist_payments = pd.read_csv('olist_order_payments.csv')\n",
    "olist_orders = pd.read_csv('olist_orders.csv')\n",
    "olist_customers = pd.read_csv('olist_customers_ab_test.csv')"
   ]
  },
  {
   "cell_type": "markdown",
   "id": "0724aa9a",
   "metadata": {},
   "source": [
    "This code snippet is iterating over a list of DataFrames (`olist_payments`, `olist_orders`, `olist_customers`) and printing out the shape of each DataFrame. The `shape` attribute of a DataFrame returns a tuple representing the dimensions of the DataFrame (number of rows, number of columns). So, this code will output the shape (number of rows, number of columns) of each DataFrame in the list.\n"
   ]
  },
  {
   "cell_type": "code",
   "execution_count": null,
   "id": "99119ee2",
   "metadata": {},
   "outputs": [],
   "source": [
    "for dfs in [olist_payments, olist_orders, olist_customers]:\n",
    "    print(dfs.shape)"
   ]
  },
  {
   "cell_type": "markdown",
   "id": "2478a1b3",
   "metadata": {},
   "source": [
    "`olist_payments.head(10)` is a method used in pandas to display the first 10 rows of the DataFrame `olist_payments`. This is helpful for quickly inspecting the data and understanding its structure."
   ]
  },
  {
   "cell_type": "code",
   "execution_count": null,
   "id": "45dc093b",
   "metadata": {},
   "outputs": [],
   "source": [
    "olist_payments.head(10)"
   ]
  },
  {
   "cell_type": "markdown",
   "id": "881f8f91",
   "metadata": {},
   "source": [
    "`olist_orders.head(10)` is a method used in pandas to display the first 10 rows of the DataFrame `olist_orders`. It is useful for quickly inspecting the data at the beginning of the DataFrame.\n"
   ]
  },
  {
   "cell_type": "code",
   "execution_count": null,
   "id": "ae56307e",
   "metadata": {},
   "outputs": [],
   "source": [
    "olist_orders.head(10)"
   ]
  },
  {
   "cell_type": "markdown",
   "id": "0a068aaf",
   "metadata": {},
   "source": [
    "`olist_customers.head(10)` is a method used to display the first 10 rows of the `olist_customers` dataset or dataframe. This is helpful for quickly inspecting the data and understanding its structure.\n"
   ]
  },
  {
   "cell_type": "code",
   "execution_count": null,
   "id": "9adcf750",
   "metadata": {},
   "outputs": [],
   "source": [
    "olist_customers.head(10)"
   ]
  },
  {
   "cell_type": "markdown",
   "id": "b54b946a",
   "metadata": {},
   "source": [
    "Now performing a left join merge operation between two DataFrames `olist_customers` and `olist_orders` based on the column 'customer_id'. The resulting DataFrame `first_merge` will contain all rows from `olist_customers` and matching rows from `olist_orders`, with non-matching rows in `olist_orders` filled with NaN values.\n"
   ]
  },
  {
   "cell_type": "code",
   "execution_count": null,
   "id": "72a1e62f",
   "metadata": {},
   "outputs": [],
   "source": [
    "first_merge = olist_customers.merge(olist_orders, on = 'customer_id', how='left')"
   ]
  },
  {
   "cell_type": "markdown",
   "id": "3fd09f7f",
   "metadata": {},
   "source": [
    "Now merging two DataFrames, `first_merge` and `olist_payments`, on the column 'order_id' using a left join. The resulting DataFrame `olist_data` will contain all the rows from `first_merge` and any matching rows from `olist_payments`, with missing values filled in with NaN for any non-matching rows from `olist_payments`.\n"
   ]
  },
  {
   "cell_type": "code",
   "execution_count": null,
   "id": "0248bc05",
   "metadata": {},
   "outputs": [],
   "source": [
    "olist_data = first_merge.merge(olist_payments, on='order_id', how='left')"
   ]
  },
  {
   "cell_type": "code",
   "execution_count": null,
   "id": "5a945a05",
   "metadata": {},
   "outputs": [],
   "source": [
    "# Si on voulait exporter les données en CSV : \n",
    "#olist_data.to_csv('olist_data.csv')"
   ]
  },
  {
   "cell_type": "markdown",
   "id": "9726af21",
   "metadata": {},
   "source": [
    "`olist_data['order_status'].value_counts()` is counting the number of occurrences of each unique value in the 'order_status' column of the DataFrame `olist_data`. It returns a Series with the counts of each unique value in the 'order_status' column.\n"
   ]
  },
  {
   "cell_type": "code",
   "execution_count": null,
   "id": "69e36d92",
   "metadata": {},
   "outputs": [],
   "source": [
    "olist_data['order_status'].value_counts()"
   ]
  },
  {
   "cell_type": "markdown",
   "id": "0ec4b3bb",
   "metadata": {},
   "source": [
    "`olist_data.shape` is a Python code snippet that is used to retrieve the dimensions of a DataFrame or a NumPy array named `olist_data`. The `shape` attribute returns a tuple representing the number of rows and columns in the DataFrame or array. The first element of the tuple represents the number of rows, and the second element represents the number of columns.\n"
   ]
  },
  {
   "cell_type": "code",
   "execution_count": null,
   "id": "a5f2f120",
   "metadata": {},
   "outputs": [],
   "source": [
    "olist_data.shape"
   ]
  },
  {
   "cell_type": "markdown",
   "id": "78965146",
   "metadata": {},
   "source": [
    "The code `olist_data.describe(include='all')` is used to generate descriptive statistics of the data in the `olist_data` DataFrame. By specifying `include='all'`, it will provide statistics for both numerical and categorical columns in the DataFrame. This includes count, mean, standard deviation, minimum, maximum, and various quantiles for numerical columns, as well as count, unique values, top value, and frequency for categorical columns.\n"
   ]
  },
  {
   "cell_type": "code",
   "execution_count": null,
   "id": "0cc4bf65",
   "metadata": {},
   "outputs": [],
   "source": [
    "olist_data.describe(include='all')"
   ]
  },
  {
   "cell_type": "code",
   "execution_count": null,
   "id": "0505aba2",
   "metadata": {},
   "outputs": [],
   "source": [
    "## columns = [['customer_id', 'customer_unique_id', 'customer_city', 'customer_state', 'order_id', 'order_purchase_timestamp','payment_type','payment_installments', 'payment_value']]"
   ]
  },
  {
   "cell_type": "markdown",
   "id": "f26f771a",
   "metadata": {},
   "source": [
    "Dropping specific columns from the `olist_data` DataFrame. The columns being dropped are 'Unnamed: 0', 'customer_zip_code_prefix', 'order_approved_at', 'order_delivered_carrier_date', 'order_delivered_customer_date', 'order_estimated_delivery_date', and 'payment_sequential'. By using the `drop` method with the `columns` parameter, these columns are removed from the DataFrame, and the modified DataFrame is assigned back to the variable `olist_data`.\n"
   ]
  },
  {
   "cell_type": "code",
   "execution_count": null,
   "id": "96771cef",
   "metadata": {},
   "outputs": [],
   "source": [
    "olist_data = olist_data.drop(columns = ['Unnamed: 0', 'customer_zip_code_prefix', 'order_approved_at',\n",
    "\n",
    "       'order_delivered_carrier_date', 'order_delivered_customer_date',\n",
    "\n",
    "       'order_estimated_delivery_date', 'payment_sequential'])"
   ]
  },
  {
   "cell_type": "markdown",
   "id": "8741ab3c",
   "metadata": {},
   "source": [
    "`olist_data.head(10)` is a method used in pandas to display the first 10 rows of the DataFrame `olist_data`. This is helpful for quickly inspecting the data and understanding its structure."
   ]
  },
  {
   "cell_type": "code",
   "execution_count": null,
   "id": "3bbb0b01",
   "metadata": {},
   "outputs": [],
   "source": [
    "olist_data.head(10)"
   ]
  },
  {
   "cell_type": "markdown",
   "id": "13a39782",
   "metadata": {},
   "source": [
    "`olist_data.shape` is a Python code snippet that is used to retrieve the dimensions of a DataFrame or a NumPy array named `olist_data`. The `shape` attribute returns a tuple representing the number of rows and columns in the DataFrame or array. This can be helpful in understanding the size and structure of the data you are working with."
   ]
  },
  {
   "cell_type": "code",
   "execution_count": null,
   "id": "e80135b0",
   "metadata": {},
   "outputs": [],
   "source": [
    "olist_data.shape"
   ]
  },
  {
   "cell_type": "markdown",
   "id": "080c9632",
   "metadata": {},
   "source": [
    "`olist_data['customer_id'].value_counts()` is a Pandas function that counts the occurrences of each unique value in the 'customer_id' column of the DataFrame `olist_data`. It returns a Series with the counts of each unique customer_id in the dataset."
   ]
  },
  {
   "cell_type": "code",
   "execution_count": null,
   "id": "a9f92c9a",
   "metadata": {},
   "outputs": [],
   "source": [
    "olist_data['customer_id'].value_counts()"
   ]
  },
  {
   "cell_type": "markdown",
   "id": "6b3dc574",
   "metadata": {},
   "source": [
    "Assigning the value of `olist_data` to the variable `df` and then displaying the contents of `df`. It is essentially creating a new variable `df` that holds the data from `olist_data` and then showing the contents of `df`."
   ]
  },
  {
   "cell_type": "code",
   "execution_count": null,
   "id": "c84d608b",
   "metadata": {},
   "outputs": [],
   "source": [
    "df = olist_data\n",
    "df"
   ]
  },
  {
   "cell_type": "markdown",
   "id": "bcfd4e76-219a-402c-929c-ae4f6e3718f0",
   "metadata": {},
   "source": [
    "### 2 - Réalisez les opérations nécessaires pour obtenir:\n",
    "* le customer_unique_id (id unique au client)\n",
    "* la ville \n",
    "* l'état\n",
    "* le groupe AB attribué\n",
    "* le nombre de commandes du client\n",
    "* les dépenses totales du client\n",
    "* un dataset filtré sur les commandes passées entre février et mars 2018 (inclus)"
   ]
  },
  {
   "cell_type": "markdown",
   "id": "ba953696",
   "metadata": {},
   "source": [
    "This code snippet is performing the following operations:\n",
    "*   First line of code is converting the values in the \"order_purchase_timestamp\" column of the DataFrame `df` into datetime format using the `pd.to_datetime()` function from the pandas library. This conversion is important for performing time-based operations and analysis on the data.\n",
    "*   Second line `df.set_index(\"order_purchase_timestamp\", inplace=True)` is setting the \"order_purchase_timestamp\" column as the index of the DataFrame `df`. By setting `inplace=True`, the operation is performed on the DataFrame itself without creating a new DataFrame.\n",
    "*   Third line of code `df.sort_index(inplace=True)` is sorting the DataFrame `df` by the index in ascending order. The `inplace=True` parameter means that the sorting is done on the DataFrame itself and the changes are applied directly to the DataFrame `df` without the need to create a new sorted DataFrame.\n",
    "*   Fourth line of code snippet is filtering the DataFrame `df` based on the `order_purchase_timestamp` column.\n",
    "*   Last line of code `filtered_df.shape` is a command that returns the dimensions of the DataFrame `filtered_df`. It returns a tuple representing the number of rows and columns in the DataFrame. The first element of the tuple represents the number of rows, and the second element represents the number of columns in the DataFrame.\n"
   ]
  },
  {
   "cell_type": "code",
   "execution_count": null,
   "id": "af78bcdc",
   "metadata": {},
   "outputs": [],
   "source": [
    "df[\"order_purchase_timestamp\"]=pd.to_datetime(df[\"order_purchase_timestamp\"])\n",
    "df.set_index(\"order_purchase_timestamp\", inplace=True)\n",
    "df.sort_index(inplace=True)\n",
    "filtered_df=df.loc[\"2018-02-01\":\"2018-03-31\",:].reset_index()\n",
    "filtered_df.shape"
   ]
  },
  {
   "cell_type": "markdown",
   "id": "f4e2d1ff",
   "metadata": {},
   "source": [
    "Now creating a new DataFrame `filtered_df2` by removing duplicate rows from the original DataFrame `filtered_df` based on the 'customer_unique_id' column. The `drop_duplicates()` method is used to eliminate rows with duplicate values in the specified column(s), in this case, 'customer_unique_id'."
   ]
  },
  {
   "cell_type": "code",
   "execution_count": null,
   "id": "34210649",
   "metadata": {},
   "outputs": [],
   "source": [
    "filtered_df2 = filtered_df.drop_duplicates(subset='customer_unique_id')"
   ]
  },
  {
   "cell_type": "markdown",
   "id": "8f123cc5",
   "metadata": {},
   "source": [
    "`filtered_df2.shape` is used to retrieve the dimensions of the DataFrame `filtered_df2`. It returns a tuple representing the number of rows and columns in the DataFrame. The first element of the tuple is the number of rows, and the second element is the number of columns."
   ]
  },
  {
   "cell_type": "code",
   "execution_count": null,
   "id": "53322844",
   "metadata": {},
   "outputs": [],
   "source": [
    "filtered_df2.shape"
   ]
  },
  {
   "cell_type": "markdown",
   "id": "4c918eac",
   "metadata": {},
   "source": [
    "Now grouping the DataFrame `df` by the column 'customer_unique_id' and then aggregating the data for each unique customer. The aggregation is done by taking the maximum value of the 'AB_group' column and summing up the 'payment_value' column for each customer. The result is stored in a new DataFrame called `df_customers` with the customer_unique_id as the index. The `as_index=False` parameter ensures that the 'customer_unique_id' column is not set as the index in the resulting DataFrame."
   ]
  },
  {
   "cell_type": "code",
   "execution_count": null,
   "id": "592f25c4",
   "metadata": {},
   "outputs": [],
   "source": [
    "df_customers = df.groupby('customer_unique_id',as_index=False).agg(({'AB_group' : 'max', 'payment_value':'sum'}))"
   ]
  },
  {
   "cell_type": "markdown",
   "id": "5b71c35a-bf83-4605-ba75-98904c9a1238",
   "metadata": {},
   "source": [
    "### 3 - Comparez les groupes 0 et 1 du test AB et visualisez la répartition de leurs caractéristiques"
   ]
  },
  {
   "cell_type": "markdown",
   "id": "4db89a7e",
   "metadata": {},
   "source": [
    "This code is filtering the DataFrame `filtered_df2` into two separate DataFrames based on the values in the 'AB_group' column."
   ]
  },
  {
   "cell_type": "code",
   "execution_count": null,
   "id": "b44b4318",
   "metadata": {},
   "outputs": [],
   "source": [
    "df_group1 = filtered_df2[filtered_df2['AB_group'] == 1]\n",
    "df_group0 = filtered_df2[filtered_df2['AB_group'] == 0]"
   ]
  },
  {
   "cell_type": "markdown",
   "id": "c1ffbecd",
   "metadata": {},
   "source": [
    "`print(df_group1.shape)` will output the dimensions (number of rows and columns) of the DataFrame `df_group1`, while `print(df_group0.shape)` will output the dimensions of the DataFrame `df_group0`. This can be helpful to quickly check the size of the dataframes and understand their structure."
   ]
  },
  {
   "cell_type": "code",
   "execution_count": null,
   "id": "82f92471",
   "metadata": {},
   "outputs": [],
   "source": [
    "print(df_group1.shape)\n",
    "print(df_group0.shape)"
   ]
  },
  {
   "cell_type": "markdown",
   "id": "819a1b46",
   "metadata": {},
   "source": [
    "Now creating two new variables `df_group1_pv` and `df_group0_pv` by extracting the 'payment_value' column from two different DataFrames `df_group1` and `df_group0`, respectively. These new variables will contain only the 'payment_value' column data from their respective DataFrames."
   ]
  },
  {
   "cell_type": "code",
   "execution_count": null,
   "id": "9461b7f1",
   "metadata": {},
   "outputs": [],
   "source": [
    "df_group1_pv = df_group1['payment_value']\n",
    "df_group0_pv = df_group0['payment_value']"
   ]
  },
  {
   "cell_type": "markdown",
   "id": "7a87cd6f",
   "metadata": {},
   "source": [
    "Filtering DataFrame `df_customers` into two separate DataFrames based on the values in the 'AB_group' column."
   ]
  },
  {
   "cell_type": "code",
   "execution_count": null,
   "id": "d4097229",
   "metadata": {},
   "outputs": [],
   "source": [
    "df_customers1 = df_customers[df_customers['AB_group'] == 1.0]\n",
    "df_customers0 = df_customers[df_customers['AB_group'] == 0.0]"
   ]
  },
  {
   "cell_type": "markdown",
   "id": "82eb3bb5",
   "metadata": {},
   "source": [
    "Now calculating the number of customers tested in two different groups. \n",
    "- `tested_customers1` is storing the number of customers tested in the group represented by the DataFrame `df_customers1`.\n",
    "- `tested_customers0` is storing the number of customers tested in the group represented by the DataFrame `df_customers0`.\n",
    "- The `shape[0]` method is used to get the number of rows in each DataFrame, which corresponds to the number of customers tested in each group.\n",
    "- Finally, the code is printing out the number of tested customers in each group using `print(tested_customers1)` and `print(tested_customers0)`.\n"
   ]
  },
  {
   "cell_type": "code",
   "execution_count": null,
   "id": "0b1d933a",
   "metadata": {},
   "outputs": [],
   "source": [
    "#Nombre de customers testés par groupe \n",
    "tested_customers1 = df_customers1.shape[0]\n",
    "tested_customers0 = df_customers0.shape[0]\n",
    "print(tested_customers1)\n",
    "print(tested_customers0)"
   ]
  },
  {
   "cell_type": "markdown",
   "id": "12ea8e99",
   "metadata": {},
   "source": [
    "Printing the number of customers who have placed an order in two different groups. `df_group1.shape[0]` is used to get the number of rows (customers) in the first group, and `df_group0.shape[0]` is used to get the number of rows (customers) in the second group. The code is simply displaying the count of customers who have made a purchase in each group."
   ]
  },
  {
   "cell_type": "code",
   "execution_count": null,
   "id": "2999c8f9",
   "metadata": {},
   "outputs": [],
   "source": [
    "#Nombre de customers ayant fait une commande \n",
    "print(df_group1.shape[0])\n",
    "print(df_group0.shape[0])"
   ]
  },
  {
   "cell_type": "markdown",
   "id": "0e7615f9",
   "metadata": {},
   "source": [
    "Calculating the conversion rates for two different groups."
   ]
  },
  {
   "cell_type": "code",
   "execution_count": null,
   "id": "629de684",
   "metadata": {},
   "outputs": [],
   "source": [
    "#Mes taux de conversions \n",
    "t_conv1 = (df_group1.shape[0])/tested_customers1\n",
    "t_conv0 = (df_group0.shape[0])/tested_customers0\n",
    "print(t_conv0)\n",
    "print(t_conv1)"
   ]
  },
  {
   "cell_type": "markdown",
   "id": "fc901fad-a1b8-4373-a638-fad24428d2f7",
   "metadata": {
    "tags": []
   },
   "source": [
    "### 4 - A l'aide d'une simple opération, comparez les dépenses moyennes dans chaque groupe"
   ]
  },
  {
   "cell_type": "markdown",
   "id": "9965f6d6",
   "metadata": {},
   "source": [
    "The code is calculating the mean value of the data in two different groups, `df_group1_pv` and `df_group0_pv`, and then printing out the mean values. This can help in understanding the average value of the data in each group."
   ]
  },
  {
   "cell_type": "code",
   "execution_count": null,
   "id": "c8d7b58b",
   "metadata": {},
   "outputs": [],
   "source": [
    "print(df_group1_pv.mean())\n",
    "print(df_group0_pv.mean())"
   ]
  },
  {
   "cell_type": "markdown",
   "id": "c6bf7db3-714b-43c0-bb63-821f88ad3405",
   "metadata": {
    "tags": []
   },
   "source": [
    "### 5 - A l'aide d'un test statistique, déterminez si votre comparaison est significative.\n",
    "Pour ce faire, choisissez un niveau de confiance de 95% dans un premier temps."
   ]
  },
  {
   "cell_type": "markdown",
   "id": "a649faa7",
   "metadata": {},
   "source": [
    "`from scipy import stats` is importing the `stats` module from the `scipy` library. This allows you to use statistical functions and methods provided by the `stats` module in your code."
   ]
  },
  {
   "cell_type": "code",
   "execution_count": null,
   "id": "b8399ce0",
   "metadata": {},
   "outputs": [],
   "source": [
    "from scipy import stats"
   ]
  },
  {
   "cell_type": "markdown",
   "id": "a7e7ed62",
   "metadata": {},
   "source": [
    "This code is performing an independent two-sample t-test using the `ttest_ind` function from the `scipy.stats` module. It is comparing the means of two groups of data, `df_group1_pv` and `df_group0_pv`, to determine if there is a statistically significant difference between them. The result of the t-test is stored in the variable `test`, which can be used to access the test statistic and p-value for further analysis."
   ]
  },
  {
   "cell_type": "code",
   "execution_count": null,
   "id": "6b12c365",
   "metadata": {},
   "outputs": [],
   "source": [
    "test = stats.ttest_ind(df_group1_pv,df_group0_pv)\n",
    "test "
   ]
  },
  {
   "cell_type": "code",
   "execution_count": null,
   "id": "9281babe",
   "metadata": {},
   "outputs": [],
   "source": [
    "df_group1_pv"
   ]
  },
  {
   "cell_type": "markdown",
   "id": "c72cdf3d",
   "metadata": {},
   "source": [
    "Knowing that in group 1, 69% of customers composing the all database visited the website and in group 0, only 67% visited the website, calculating the estimated number of visitors to the site for two different customer groups."
   ]
  },
  {
   "cell_type": "code",
   "execution_count": null,
   "id": "67e342cc",
   "metadata": {},
   "outputs": [],
   "source": [
    "#Nombre des customers ayant visité le site par groupe \n",
    "visitors1 = df_customers1.shape[0]*0.69\n",
    "visitors0 = df_customers0.shape[0]*0.67\n",
    "print(visitors1)\n",
    "print(visitors0)"
   ]
  },
  {
   "cell_type": "markdown",
   "id": "89d73245",
   "metadata": {},
   "source": [
    "Performing statistical calculations related to A/B testing. Here's a breakdown of what each part is doing:\n",
    "*   First line of code is calculating the combined conversion rate by taking a weighted average of the conversion rates of two groups. It multiplies the conversion rate of group 1 (`t_conv1`) by the number of visitors in group 1 (`visitors1`), adds it to the product of the conversion rate of group 0 (`t_conv0`) and the number of visitors in group 0 (`visitors0`), and then divides this sum by the total number of visitors in both groups (`visitors1 + visitors0`). This calculation gives the overall conversion rate across both groups.\n",
    "*   Second line of code is calculating the standard error (se) for the difference in conversion rates between two groups. The formula for the standard error in this context is based on the combined conversion rate (p_combined) of the two groups, the number of visitors in each group (visitors1 and visitors0), and the individual conversion rates of each group (t_conv1 and t_conv0).\n",
    "*   Third line of code is calculating the z-statistic for comparing two proportions. The formula for the z-statistic is (p1 - p0) / se, where p1 and p0 are the proportions of the two groups being compared, and se is the standard error of the combined proportions. The z-statistic is used to determine if there is a statistically significant difference between the two proportions.\n",
    "*   Last line just outputs the calculated value of the z-statistic to the console. This value is calculated based on the formula `(t_conv1 - t_conv0) / se`, where `t_conv1` and `t_conv0` are conversion rates, and `se` is the standard error. The z-statistic is commonly used in hypothesis testing to determine the significance of the difference between two sample means or proportions.\n"
   ]
  },
  {
   "cell_type": "code",
   "execution_count": null,
   "id": "cda5aa47",
   "metadata": {},
   "outputs": [],
   "source": [
    "import math\n",
    "# Calcul des proportions combinées\n",
    "p_combined = (t_conv1 * visitors1 + t_conv0 * visitors0) / (visitors1 + visitors0)\n",
    "    \n",
    "# Calcul de l'erreur standard\n",
    "se = math.sqrt(p_combined * (1 - p_combined) * ((1 / visitors1) + (1 / visitors0)))\n",
    "    \n",
    "# Calcul du z-stat\n",
    "z_stat = (t_conv1 - t_conv0) / se\n",
    "\n",
    "print(z_stat)"
   ]
  },
  {
   "cell_type": "markdown",
   "id": "45f0714a",
   "metadata": {},
   "source": [
    "# Datavisualisation"
   ]
  },
  {
   "cell_type": "markdown",
   "id": "571d905f",
   "metadata": {},
   "source": [
    "This code snippet is importing several Python libraries for data analysis and visualization :\n",
    "*   pandas\n",
    "*   ydata_profiling\n",
    "*   missingno\n",
    "*   `%matplotlib inline` is a magic command in Jupyter notebooks that allows plots to be displayed directly within the notebook, rather than in a separate window. This command sets the backend of matplotlib to the 'inline' backend, which renders the plots as static images in the notebook.\n",
    "*   matplotlib\n",
    "*   matplotlib.pyplot\n",
    "*   matplotlib.colors\n",
    "*   seaborn"
   ]
  },
  {
   "cell_type": "code",
   "execution_count": null,
   "id": "39eb8fa5",
   "metadata": {},
   "outputs": [],
   "source": [
    "import pandas as pd\n",
    "from ydata_profiling import ProfileReport\n",
    "import missingno\n",
    "\n",
    "#Datavisualisation\n",
    "%matplotlib inline\n",
    "import matplotlib\n",
    "import matplotlib.pyplot as plt\n",
    "from matplotlib import colors\n",
    "import seaborn as sns"
   ]
  },
  {
   "cell_type": "code",
   "execution_count": null,
   "id": "1a687f6f",
   "metadata": {},
   "outputs": [],
   "source": [
    "# Création d'un rapport de profil avec pandas_profiling\n",
    "profile = ProfileReport(olist_data, title=\"DataFrame Profile Report\", explorative=True)\n",
    "\n",
    "# Génération du rapport au format HTML\n",
    "profile.to_file(\"profile_report.html\")\n",
    "\n",
    "#Affichage profile\n",
    "profile"
   ]
  },
  {
   "cell_type": "markdown",
   "id": "f13c8fa3",
   "metadata": {},
   "source": [
    "`df.columns` is a property in pandas that returns the column labels of a DataFrame `df`. It provides a list of all the column names present in the DataFrame."
   ]
  },
  {
   "cell_type": "code",
   "execution_count": null,
   "id": "384887f3",
   "metadata": {},
   "outputs": [],
   "source": [
    "df.columns"
   ]
  },
  {
   "cell_type": "markdown",
   "id": "9c015f97",
   "metadata": {},
   "source": [
    "Resetting the index of the DataFrame `olist_data` and storing the result in a new DataFrame called `ol`. The `drop=False` parameter is used to prevent the current index from being removed and added as a new column in the DataFrame."
   ]
  },
  {
   "cell_type": "code",
   "execution_count": null,
   "id": "dbdf063f",
   "metadata": {},
   "outputs": [],
   "source": [
    "ol = olist_data.reset_index(drop=False)"
   ]
  },
  {
   "cell_type": "code",
   "execution_count": null,
   "id": "7d050bec",
   "metadata": {},
   "outputs": [],
   "source": [
    "# Le code `plt.figure()` crée une nouvelle figure pour le tracé.\n",
    "plt.figure()\n",
    "\n",
    "sns.pairplot(ol) # Le paramètre hue permet de définir la colonne qui servira de série en légende\n",
    "\n",
    "plt.show()"
   ]
  },
  {
   "cell_type": "markdown",
   "id": "36f55896",
   "metadata": {},
   "source": [
    "Create a facet grid plot using Seaborn to visualize the distribution of customer states within different AB groups.\n",
    "*   param ol - The dataset containing the data to be plotted\n",
    "*   Return A facet grid plot showing the distribution of customer states within different AB groups.\n"
   ]
  },
  {
   "cell_type": "code",
   "execution_count": null,
   "id": "97eb7858",
   "metadata": {},
   "outputs": [],
   "source": [
    "import seaborn as sns\n",
    "\n",
    "import matplotlib.pyplot as plt\n",
    "\n",
    "# Création d'un FacetGrid\n",
    "g = sns.FacetGrid(ol, col=\"AB_group\")\n",
    "\n",
    "# Mapping d'un histogramme sur chaque facet\n",
    "g.map(sns.histplot, \"customer_state\")\n",
    "\n",
    "plt.xticks(rotation=90)\n",
    "\n",
    "plt.show()\n"
   ]
  },
  {
   "cell_type": "markdown",
   "id": "78456b72",
   "metadata": {},
   "source": [
    "Create a categorical plot to visualize the relationship between customer state, payment value, and AB group.\n",
    "*   data - the dataset containing the information\n",
    "*   x - the feature to be plotted on the x-axis (customer state)\n",
    "*   y - the feature to be plotted on the y-axis (payment value)\n",
    "*   hue - the feature used for coloring the plot (AB group)\n",
    "*   kind - the type of plot to be created (bar plot)\n",
    "\n",
    "Displays the plot with rotated x-axis labels for better readability.\n"
   ]
  },
  {
   "cell_type": "code",
   "execution_count": null,
   "id": "1d32b46a",
   "metadata": {},
   "outputs": [],
   "source": [
    "sns.catplot(data=ol, x=\"customer_state\", y=\"payment_value\", hue=\"AB_group\", kind=\"bar\")\n",
    "plt.xticks(rotation=90)  # Rotation des étiquettes pour une meilleure lisibilité\n",
    "plt.show()\n"
   ]
  },
  {
   "cell_type": "markdown",
   "id": "7996d2a5",
   "metadata": {},
   "source": [
    "Create a categorical plot to visualize the distribution of payment values across different customer states, segmented by AB groups using a violin plot.\n",
    "*   data - The dataset containing the information to be plotted.\n",
    "*   x - The variable to be plotted on the x-axis (customer state).\n",
    "*   y - The variable to be plotted on the y-axis (payment value).\n",
    "*   hue - The variable used for grouping the data (AB group).\n",
    "*   kind - The type of plot to be created (violin plot).\n",
    "\n",
    "Shows a violin plot showing the distribution of payment values across different customer states and AB groups."
   ]
  },
  {
   "cell_type": "code",
   "execution_count": null,
   "id": "88681667",
   "metadata": {},
   "outputs": [],
   "source": [
    "sns.catplot(data=ol, x=\"customer_state\", y=\"payment_value\", hue=\"AB_group\", kind=\"violin\")\n",
    "plt.xticks(rotation=90)  # Rotation des étiquettes pour une meilleure lisibilité\n",
    "plt.show()\n"
   ]
  },
  {
   "cell_type": "markdown",
   "id": "39e18ffe",
   "metadata": {},
   "source": [
    "Calculate the correlation matrix of a DataFrame and display it as a heatmap using seaborn.\n",
    "*   ol - The DataFrame for which the correlation matrix will be calculated.\n",
    "\n",
    "Shows the correlation heatmap."
   ]
  },
  {
   "cell_type": "code",
   "execution_count": null,
   "id": "59286a99",
   "metadata": {},
   "outputs": [],
   "source": [
    "corr = ol.corr()\n",
    "sns.heatmap(corr, annot=True)\n",
    "plt.show()\n"
   ]
  },
  {
   "cell_type": "markdown",
   "id": "ffe41165",
   "metadata": {},
   "source": [
    "Create multiple PairGrid plots using Seaborn to visualize relationships between variables in a dataset.\n",
    "- The first block of code creates a PairGrid plot with histograms on the upper diagonal, scatter plots on the lower diagonal, and violin plots on the diagonal for each group in the 'AB_group' column.\n",
    "- The second block of code creates a PairGrid plot with kernel density plots on the diagonal and histograms on the lower diagonal for each group in the 'AB_group' column.\n",
    "- The third block of code creates a PairGrid plot with histograms on the diagonal, kernel density plots on the upper diagonal, and histograms on the lower diagonal for each group in the 'AB_group' column."
   ]
  },
  {
   "cell_type": "code",
   "execution_count": null,
   "id": "e2d54102",
   "metadata": {},
   "outputs": [],
   "source": [
    "g2 = sns.PairGrid(ol, hue='AB_group')\n",
    "g2.map_upper(sns.histplot)\n",
    "g2.map_lower(sns.scatterplot)\n",
    "g2.map_diag(sns.violinplot)\n",
    "g2.add_legend()\n",
    "\n",
    "g1 = sns.PairGrid(ol, hue=\"AB_group\")\n",
    "g1.map_diag(sns.kdeplot)\n",
    "g1.map_lower(sns.histplot)\n",
    "g1.add_legend()\n",
    "\n",
    "g = sns.PairGrid(ol, hue=\"AB_group\")\n",
    "g.map_diag(sns.histplot)\n",
    "g.map_upper(sns.kdeplot)\n",
    "g.map_lower(sns.histplot)\n",
    "g.add_legend()"
   ]
  },
  {
   "cell_type": "markdown",
   "id": "9e1aff9c",
   "metadata": {},
   "source": [
    "Create a FacetGrid plot using seaborn to visualize the distribution and scatter plot of payment values based on the AB_group column.\n",
    "*   ol - The dataset containing the payment values and AB_group column\n",
    "\n",
    "Returns a FacetGrid plot showing the distribution and scatter plot of payment values based on the AB_group."
   ]
  },
  {
   "cell_type": "code",
   "execution_count": null,
   "id": "5e83b49d",
   "metadata": {},
   "outputs": [],
   "source": [
    "# Création d'un FacetGrid\n",
    "g = sns.FacetGrid(ol, col=\"AB_group\")\n",
    "\n",
    "# Mapping d'un histogramme sur chaque facet\n",
    "g.map(sns.histplot, \"payment_value\")\n",
    "g.map(sns.scatterplot, \"payment_value\")"
   ]
  }
 ],
 "metadata": {
  "kernelspec": {
   "display_name": "Python 3 (ipykernel)",
   "language": "python",
   "name": "python3"
  },
  "language_info": {
   "codemirror_mode": {
    "name": "ipython",
    "version": 3
   },
   "file_extension": ".py",
   "mimetype": "text/x-python",
   "name": "python",
   "nbconvert_exporter": "python",
   "pygments_lexer": "ipython3",
   "version": "3.9.13"
  }
 },
 "nbformat": 4,
 "nbformat_minor": 5
}
